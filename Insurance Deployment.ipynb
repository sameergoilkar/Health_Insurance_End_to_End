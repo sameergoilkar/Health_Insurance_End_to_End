{
 "cells": [
  {
   "cell_type": "code",
   "execution_count": 9,
   "id": "b78d3c2b",
   "metadata": {},
   "outputs": [],
   "source": [
    "from tkinter import *\n",
    "import joblib"
   ]
  },
  {
   "cell_type": "code",
   "execution_count": 25,
   "id": "7deb4486",
   "metadata": {},
   "outputs": [
    {
     "name": "stderr",
     "output_type": "stream",
     "text": [
      "C:\\Users\\Sameer\\anaconda3\\envs\\insurance\\lib\\site-packages\\sklearn\\base.py:409: UserWarning: X does not have valid feature names, but GradientBoostingRegressor was fitted with feature names\n",
      "  warnings.warn(\n"
     ]
    }
   ],
   "source": [
    "def show_entry():\n",
    "    p1 = float(e1.get())\n",
    "    p2 = float(e2.get())\n",
    "    p3 = float(e3.get())\n",
    "    p4 = float(e4.get())\n",
    "    p5 = float(e5.get())\n",
    "    p6 = float(e6.get())\n",
    "    model = joblib.load('model_joblib_gr')\n",
    "    result = model.predict([[p1,p2,p3,p4,p5,p6]])\n",
    "    Label(master,text=\"Insurance Cost\").grid(row=8)\n",
    "    Label(master,text=result).grid(row=9)\n",
    "\n",
    "master = Tk()\n",
    "master.title('Insurance Cost Prediction')\n",
    " \n",
    "label = Label (master, text = 'Insurance Cost Prediction',bg='black',fg='white').grid(row=0,columnspan=2)\n",
    "Label(master,text='Enter Your Age').grid(row=1)\n",
    "Label(master,text='Male or Female [1/0]').grid(row=2)\n",
    "Label(master,text='Enter BMI Value').grid(row=3)\n",
    "Label(master,text='Enter Numbers of Children').grid(row=4)\n",
    "Label(master,text='Smaoke Yes/No [1/0]').grid(row=5)\n",
    "Label(master,text='Region [1-4]').grid(row=6)\n",
    "\n",
    "e1 = Entry(master)\n",
    "e2 = Entry(master)\n",
    "e3 = Entry(master)\n",
    "e4 = Entry(master)\n",
    "e5 = Entry(master)\n",
    "e6 = Entry(master)\n",
    "\n",
    "e1.grid(row=1, column=1)\n",
    "e2.grid(row=2, column=1)\n",
    "e3.grid(row=3, column=1)\n",
    "e4.grid(row=4, column=1)\n",
    "e5.grid(row=5, column=1)\n",
    "e6.grid(row=6, column=1)\n",
    "\n",
    "Button(master, text='Predict', command=show_entry).grid()\n",
    "\n",
    "mainloop()\n",
    "                                                                                     "
   ]
  },
  {
   "cell_type": "code",
   "execution_count": 2,
   "id": "aae9c39f",
   "metadata": {},
   "outputs": [],
   "source": []
  },
  {
   "cell_type": "code",
   "execution_count": 4,
   "id": "e6857587",
   "metadata": {},
   "outputs": [
    {
     "data": {
      "text/plain": [
       "''"
      ]
     },
     "execution_count": 4,
     "metadata": {},
     "output_type": "execute_result"
    }
   ],
   "source": []
  },
  {
   "cell_type": "code",
   "execution_count": null,
   "id": "e55c6471",
   "metadata": {},
   "outputs": [],
   "source": []
  }
 ],
 "metadata": {
  "kernelspec": {
   "display_name": "Python 3 (ipykernel)",
   "language": "python",
   "name": "python3"
  },
  "language_info": {
   "codemirror_mode": {
    "name": "ipython",
    "version": 3
   },
   "file_extension": ".py",
   "mimetype": "text/x-python",
   "name": "python",
   "nbconvert_exporter": "python",
   "pygments_lexer": "ipython3",
   "version": "3.9.13"
  }
 },
 "nbformat": 4,
 "nbformat_minor": 5
}
